{
  "nbformat": 4,
  "nbformat_minor": 0,
  "metadata": {
    "colab": {
      "provenance": []
    },
    "kernelspec": {
      "name": "python3",
      "display_name": "Python 3"
    },
    "language_info": {
      "name": "python"
    }
  },
  "cells": [
    {
      "cell_type": "code",
      "execution_count": 12,
      "metadata": {
        "id": "uMyBoJ7IrepO"
      },
      "outputs": [],
      "source": [
        "import numpy as np"
      ]
    },
    {
      "cell_type": "code",
      "source": [
        "# Parameters\n",
        "window_size = 5\n",
        "number_of_sensors = 5\n",
        "sparsity_inv_matrix = 0.2\n",
        "rand_seed = 10\n",
        "number_of_clusters = 3\n",
        "cluster_ids = [0, 1, 0] # determines which cluster cov should be used to generate data segment\n",
        "break_points = np.array([1, 2, 3]) * 200\n",
        "out_file_name = \"synthetic_data.csv\"\n",
        "np.random.seed(rand_seed)"
      ],
      "metadata": {
        "id": "Z2KzZ1MdrjKi"
      },
      "execution_count": 13,
      "outputs": []
    },
    {
      "cell_type": "code",
      "source": [
        "# Store block matrices\n",
        "block_matrices = {}\n",
        "num_blocks = window_size\n",
        "size_blocks = number_of_sensors\n",
        "seg_ids = cluster_ids"
      ],
      "metadata": {
        "id": "C5AJyEaS8oS7"
      },
      "execution_count": 14,
      "outputs": []
    },
    {
      "cell_type": "code",
      "source": [
        "def generate_inverse(rand_seed):\n",
        "    # creates inv cov matrices with the sparsity defined by sparsity_inv_matrix\n",
        "    np.random.seed(rand_seed)\n",
        "\n",
        "    def gen_inv_cov(size, low=0.3, upper=0.6, portion=0.2, symmetric=True):\n",
        "        # generate sparse inv cov matrix, the result will be symmetric\n",
        "        portion = portion / 2\n",
        "        S = np.zeros((size, size))\n",
        "        for i in range(size):\n",
        "            for j in range(size):\n",
        "                if np.random.rand() < portion:\n",
        "                    value = (np.random.randint(2) - 0.5) * 2 * (low + (upper - low) * np.random.rand())\n",
        "                    S[i, j] = value\n",
        "        if symmetric:\n",
        "            S = S + S.T\n",
        "        return np.matrix(S)\n",
        "\n",
        "    def gen_rand_inv(size, low=0.3, upper=0.6, portion=0.2):\n",
        "        # generate sparse inv cov matrix, the result will not be symmetric\n",
        "        S = np.zeros((size, size))\n",
        "        for i in range(size):\n",
        "            for j in range(size):\n",
        "                if np.random.rand() < portion:\n",
        "                    value = (np.random.randint(2) - 0.5) * 2 * (low + (upper - low) * np.random.rand())\n",
        "                    S[i, j] = value\n",
        "        return np.matrix(S)\n",
        "\n",
        "    for block in range(num_blocks):\n",
        "        if block == 0:\n",
        "            block_matrices[block] = gen_inv_cov(size=size_blocks, portion=sparsity_inv_matrix, symmetric=(block == 0))\n",
        "        else:\n",
        "            block_matrices[block] = gen_rand_inv(size=size_blocks, portion=sparsity_inv_matrix)\n",
        "\n",
        "    inv_matrix = np.zeros([num_blocks * size_blocks, num_blocks * size_blocks])\n",
        "\n",
        "    # Fill the inverse matrix with blocks\n",
        "    for block_i in range(num_blocks):\n",
        "        for block_j in range(num_blocks):\n",
        "            block_num = abs(block_i - block_j)\n",
        "            if block_i > block_j:\n",
        "                inv_matrix[block_i * size_blocks:(block_i + 1) * size_blocks, block_j * size_blocks:(block_j + 1) * size_blocks] = block_matrices[block_num]\n",
        "            else:\n",
        "                inv_matrix[block_i * size_blocks:(block_i + 1) * size_blocks, block_j * size_blocks:(block_j + 1) * size_blocks] = block_matrices[block_num].T\n",
        "\n",
        "    # Ensure the matrix is positive definite\n",
        "    eigs, _ = np.linalg.eig(inv_matrix)\n",
        "    lambda_min = min(eigs)\n",
        "    inv_matrix = inv_matrix + (0.1 + abs(lambda_min)) * np.identity(size_blocks * num_blocks)\n",
        "\n",
        "    eigs, _ = np.linalg.eig(inv_matrix)\n",
        "    print(\"modified Eigenvalues are:\", np.sort(eigs))\n",
        "\n",
        "    return inv_matrix\n"
      ],
      "metadata": {
        "id": "TazSp94R9ErO"
      },
      "execution_count": 15,
      "outputs": []
    },
    {
      "cell_type": "code",
      "source": [
        "# Generate points\n",
        "num_clusters = number_of_clusters\n",
        "cluster_mean = np.zeros([size_blocks, 1])\n",
        "cluster_mean_stacked = np.zeros([size_blocks * num_blocks, 1])\n",
        "\n",
        "cluster_inverses = {}\n",
        "cluster_covariances = {}\n",
        "\n",
        "for cluster in range(num_clusters):\n",
        "    cluster_inverses[cluster] = generate_inverse(rand_seed=cluster)\n",
        "    cluster_covariances[cluster] = np.linalg.inv(cluster_inverses[cluster])\n",
        "\n",
        "    np.savetxt(f\"inverse_covariance_cluster_{cluster}.csv\", cluster_inverses[cluster], delimiter=\",\", fmt='%1.6f')\n",
        "    np.savetxt(f\"covariance_cluster_{cluster}.csv\", cluster_covariances[cluster], delimiter=\",\", fmt='%1.6f')\n"
      ],
      "metadata": {
        "colab": {
          "base_uri": "https://localhost:8080/"
        },
        "id": "_4ou_gPG9iwj",
        "outputId": "99f3ac78-e3b4-44bd-8bb1-1ac3e348a833"
      },
      "execution_count": 16,
      "outputs": [
        {
          "output_type": "stream",
          "name": "stdout",
          "text": [
            "modified Eigenvalues are: [0.1        0.29030178 0.41337634 0.62079652 0.76699303 0.84087622\n",
            " 0.9271657  1.06680631 1.1515207  1.50330742 1.64971793 1.68068967\n",
            " 1.73597429 1.77838288 1.8451119  1.96092392 2.27015193 2.30470308\n",
            " 2.53735724 2.7503323  2.79848672 3.11894074 3.17406739 3.45667681\n",
            " 3.66313147]\n",
            "modified Eigenvalues are: [0.1        0.14400401 0.43530673 0.56735097 0.67123772 0.85007428\n",
            " 0.96027899 1.27499486 1.30722399 1.45964606 1.50847532 1.56295124\n",
            " 1.69639625 1.9974138  2.19910609 2.3801121  2.40755277 2.52793766\n",
            " 2.69283446 2.92932086 2.95289839 3.20930286 3.33976615 3.50636637\n",
            " 3.60390107]\n",
            "modified Eigenvalues are: [0.1        0.21421966 0.2689519  0.42469752 0.50981103 0.60454014\n",
            " 0.69501827 1.07471026 1.12006673 1.19315204 1.28966759 1.28966759\n",
            " 1.28966759 1.28966759 1.28966759 1.38618314 1.45926845 1.50462492\n",
            " 1.88431691 1.97479504 2.06952415 2.15463766 2.31038328 2.36511552\n",
            " 2.47933518]\n"
          ]
        }
      ]
    },
    {
      "cell_type": "code",
      "source": [
        "# generate data acc to the cluster covariances and cluster ids\n",
        "Data = np.zeros([break_points[-1], size_blocks])\n",
        "\n",
        "for counter in range(len(break_points)):\n",
        "    break_pt = break_points[counter]\n",
        "    cluster = seg_ids[counter]\n",
        "    old_break_pt = 0 if counter == 0 else break_points[counter - 1]\n",
        "\n",
        "    for num in range(old_break_pt, break_pt):\n",
        "        new_mean = cluster_mean\n",
        "        cov_matrix = cluster_covariances[cluster][0:size_blocks, 0:size_blocks]\n",
        "        # sampling from multivariate normal distribution\n",
        "        new_row = np.random.multivariate_normal(new_mean.reshape(size_blocks), cov_matrix)\n",
        "        Data[num, :] = new_row\n"
      ],
      "metadata": {
        "id": "Dxr726ff9muB"
      },
      "execution_count": 17,
      "outputs": []
    },
    {
      "cell_type": "code",
      "source": [
        "# save dataset\n",
        "np.savetxt(out_file_name, Data, delimiter=\",\", fmt='%1.4f')"
      ],
      "metadata": {
        "id": "ujZP8Tvj9rVO"
      },
      "execution_count": 18,
      "outputs": []
    }
  ]
}